﻿{
  "cells": [
    {
      "cell_type": "markdown",
      "source": [
        "# Explorer la confidentialité différentielle\n",
        "\n",
        "Un projet d’apprentissage automatique implique généralement un processus itératif d’analyses de données destiné à obtenir des insights sur les données et à déterminer les variables les plus susceptibles d’aider à créer des modèles prédictifs. L’analyse des données implique généralement des fonctions agrégatives et statistiques qui fournissent des insights sur la distribution statistique des variables et les relations entre elles. Avec des volumes de données conséquents, les agrégations fournissent un niveau d’abstraction, tandis qu’avec des volumes de données plus modestes ou avec des analyses répétées, même des résultats agrégés peuvent révéler des détails sur des observations individuelles.\n",
        "\n",
        "La *confidentialité différentielle* est une technique conçue pour préserver la confidentialité des points de données individuels en ajoutant du « bruit » aux données. L’objectif est de s’assurer que le bruit ajouté est suffisant pour préserver la confidentialité des valeurs individuelles, tout en veillant à ce que la composition statistique globale des données reste cohérente, et que les agrégations produisent des résultats statistiquement similaires à ceux obtenus avec les données brutes d’origine.\n",
        "\n",
        "## Installer le Kit de développement logiciel (SDK) SmartNoise\n",
        "\n",
        "[*SmartNoise*](https://smartnoise.org/) est un kit de ressources d’OpenDP. Il s’agit d’un projet conjoint de chercheurs de Microsoft, de la Harvard University et d’autres contributeurs, qui vise à fournir des blocs de construction pour l’utilisation de la confidentialité différentielle dans des projets d’analyse de données et d’apprentissage automatique.\n",
        "\n",
        "> **Remarque** : SmartNoise n’en est actuellement qu’aux premiers stades de développement.\n",
        "\n",
        "Commençons par installer le package du Kit de développement logiciel (SDK) Python SmartNoise. Dans cet exercice, vous pouvez ignorer les erreurs relatives à la compatibilité d’Azure CLI."
      ],
      "metadata": {}
    },
    {
      "cell_type": "code",
      "source": [
        "pip install opendp-smartnoise==0.1.4.2"
      ],
      "outputs": [],
      "execution_count": null,
      "metadata": {
        "scrolled": true,
        "vscode": {
          "languageId": "python"
        },
        "gather": {
          "logged": 1649368281268
        }
      }
    },
    {
      "cell_type": "markdown",
      "source": [
        "## Charger les données\n",
        "\n",
        "Jetons maintenant un coup d’œil à certaines données brutes. Dans ce cas, nous disposons d’un ensemble de 10 000 enregistrements de patients testés pour le diabète."
      ],
      "metadata": {}
    },
    {
      "cell_type": "code",
      "source": [
        "import pandas as pd\n",
        "\n",
        "data_path = 'data/diabetes.csv'\n",
        "diabetes = pd.read_csv(data_path)\n",
        "diabetes.describe()"
      ],
      "outputs": [],
      "execution_count": null,
      "metadata": {
        "vscode": {
          "languageId": "python"
        },
        "gather": {
          "logged": 1649368211753
        }
      }
    },
    {
      "cell_type": "markdown",
      "source": [
        "La sortie du code ci-dessus montre les statistiques de synthèse clés pour les variables dans le jeu de données sur le diabète.\n",
        "\n",
        "## Effectuer une analyse\n",
        "\n",
        "Vous pouvez utiliser SmartNoise pour créer une analyse dans laquelle du bruit est ajouté aux données sources. Les mathématiques sous-tendant la façon dont le bruit est ajouté peuvent être assez complexes, mais SmartNoise s’occupe de la plupart des détails pour vous. Toutefois, il existe quelques concepts qu’il est utile de connaître.\n",
        "\n",
        "- **Limites supérieures et inférieures** : un *bridage* est utilisé pour définir les limites supérieures et inférieures des valeurs d’une variable. Cela est nécessaire pour garantir la cohérence du bruit généré par SmartNoise avec la distribution attendue des données d’origine.\n",
        "- **Taille de l’échantillon** : pour générer des données privées différentiellement cohérentes pour certaines agrégations, SmartNoise doit connaître la taille de l’échantillon de données à générer.\n",
        "- **Epsilon** : en termes simples, *epsilon* est une valeur non négative qui fournit une mesure inverse de la quantité de bruit ajoutée aux données. Un valeur epsilon basse se traduit par un ensemble de données présentant un niveau de confidentialité plus élevé, tandis qu’une valeur epsilon élevée se traduit par un ensemble de données plus proche des données d’origine. En règle générale, vous devriez utiliser des valeurs epsilon comprises entre 0 et 1. La valeur epsilon est corrélée avec une autre valeur nommée *delta*, qui indique la probabilité qu’un rapport généré par une analyse ne soit pas entièrement privé.\n",
        "\n",
        "Avec ces concepts en tête, examinez et exécutez le code suivant, qui crée une analyse et rapporte la valeur moyenne de **Âge** à partir des données différentiellement privées. La valeur de moyenne réelle des données brutes d’origine est également affichée à des fins de comparaison."
      ],
      "metadata": {}
    },
    {
      "cell_type": "code",
      "source": [
        "import opendp.smartnoise.core as sn\n",
        "\n",
        "cols = list(diabetes.columns)\n",
        "age_range = [0.0, 120.0]\n",
        "samples = len(diabetes)\n",
        "\n",
        "with sn.Analysis() as analysis:\n",
        "    # load data\n",
        "    data = sn.Dataset(path=data_path, column_names=cols)\n",
        "    \n",
        "    # Convert Age to float\n",
        "    age_dt = sn.to_float(data['Age'])\n",
        "    \n",
        "    # get mean of age\n",
        "    age_mean = sn.dp_mean(data = age_dt,\n",
        "                          privacy_usage = {'epsilon': .50},\n",
        "                          data_lower = age_range[0],\n",
        "                          data_upper = age_range[1],\n",
        "                          data_rows = samples\n",
        "                         )\n",
        "    \n",
        "analysis.release()\n",
        "\n",
        "# print differentially private estimate of mean age\n",
        "print(\"Private mean age:\",age_mean.value)\n",
        "\n",
        "# print actual mean age\n",
        "print(\"Actual mean age:\",diabetes.Age.mean())"
      ],
      "outputs": [],
      "execution_count": null,
      "metadata": {
        "vscode": {
          "languageId": "python"
        }
      }
    },
    {
      "cell_type": "markdown",
      "source": [
        "## Explorer la distribution des données avec des histogrammes\n",
        "\n",
        "Il est courant, lors d’une analyse de données d’examiner la distribution d’une variable à l’aide d’un histogramme.\n",
        "\n",
        "Par exemple, examinons la distribution réelle des âges dans le jeu de données sur le diabète."
      ],
      "metadata": {}
    },
    {
      "cell_type": "code",
      "source": [
        "import matplotlib.pyplot as plt\n",
        "import numpy as np\n",
        "%matplotlib inline\n",
        "\n",
        "ages = list(range(0, 130, 10))\n",
        "age = diabetes.Age\n",
        "\n",
        "# Plot a histogram with 10-year bins\n",
        "n_age, bins, patches = plt.hist(age, bins=ages, color='blue', alpha=0.7, rwidth=0.85)\n",
        "plt.grid(axis='y', alpha=0.75)\n",
        "plt.xlabel('Age')\n",
        "plt.ylabel('Frequency')\n",
        "plt.title('True Age Distribution')\n",
        "plt.show()\n",
        "print(n_age.astype(int))"
      ],
      "outputs": [],
      "execution_count": null,
      "metadata": {
        "vscode": {
          "languageId": "python"
        }
      }
    },
    {
      "cell_type": "markdown",
      "source": [
        "Nous allons maintenant comparer un histogramme différentiellement privé de Âge."
      ],
      "metadata": {}
    },
    {
      "cell_type": "code",
      "source": [
        "import matplotlib.pyplot as plt\n",
        "\n",
        "with sn.Analysis() as analysis:\n",
        "    data = sn.Dataset(path = data_path, column_names = cols)\n",
        "\n",
        "    age_histogram = sn.dp_histogram(\n",
        "            sn.to_int(data['Age'], lower=0, upper=120),\n",
        "            edges = ages,\n",
        "            upper = 10000,\n",
        "            null_value = -1,\n",
        "            privacy_usage = {'epsilon': 0.5}\n",
        "        )\n",
        "    \n",
        "analysis.release()\n",
        "\n",
        "plt.ylim([0,7000])\n",
        "width=4\n",
        "agecat_left = [x + width for x in ages]\n",
        "agecat_right = [x + 2*width for x in ages]\n",
        "plt.bar(list(range(0,120,10)), n_age, width=width, color='blue', alpha=0.7, label='True')\n",
        "plt.bar(agecat_left, age_histogram.value, width=width, color='orange', alpha=0.7, label='Private')\n",
        "plt.legend()\n",
        "plt.title('Histogram of Age')\n",
        "plt.xlabel('Age')\n",
        "plt.ylabel('Frequency')\n",
        "plt.show()\n",
        "\n",
        "print(age_histogram.value)"
      ],
      "outputs": [],
      "execution_count": null,
      "metadata": {
        "vscode": {
          "languageId": "python"
        }
      }
    },
    {
      "cell_type": "markdown",
      "source": [
        "Les histogrammes sont suffisamment similaires pour garantir que des rapports basés sur les données différentiellement privées fournissent les mêmes insights que des rapports à partir des données brutes.\n",
        "\n",
        "## Calcul de la covariance\n",
        "\n",
        "Un autre objectif courant de l’analyse est d’établir des relations entre variables. SmartNoise fournit une fonction de *covariance* différentiellement privée qui peut vous aider à cet égard."
      ],
      "metadata": {}
    },
    {
      "cell_type": "code",
      "source": [
        "with sn.Analysis() as analysis:\n",
        "    sn_data = sn.Dataset(path = data_path, column_names = cols)\n",
        "\n",
        "    age_bp_cov_scalar = sn.dp_covariance(\n",
        "                left = sn.to_float(sn_data['Age']),\n",
        "                right = sn.to_float(sn_data['DiastolicBloodPressure']),\n",
        "                privacy_usage = {'epsilon': 1.0},\n",
        "                left_lower = 0.,\n",
        "                left_upper = 120.,\n",
        "                left_rows = 10000,\n",
        "                right_lower = 0.,\n",
        "                right_upper = 150.,\n",
        "                right_rows = 10000)\n",
        "analysis.release()\n",
        "print('Differentially private covariance: {0}'.format(age_bp_cov_scalar.value[0][0]))\n",
        "print('Actual covariance', diabetes.Age.cov(diabetes.DiastolicBloodPressure))"
      ],
      "outputs": [],
      "execution_count": null,
      "metadata": {
        "vscode": {
          "languageId": "python"
        }
      }
    },
    {
      "cell_type": "markdown",
      "source": [
        "Dans ce cas, la covariance entre **Âge** et **DisatolicBloodPressure** est positive, ce qui indique que les patients plus âgés ont tendance à avoir une pression sanguine plus élevée.\n",
        "\n",
        "## Utiliser des requêtes SQL\n",
        "\n",
        "En plus de la fonctionnalité **Analyse**, SmartNoise vous permet d’utiliser des requêtes SQL sur des sources de données pour récupérer des résultats agrégés différentiellement privés.\n",
        "\n",
        "Vous devez commencer par définir les métadonnées des tables dans votre schéma de données. Vous pouvez le faire dans un fichier .yml, tel que le fichier **diabetes.yml** dans le dossier **/metadata**. Les métadonnées décrivent les champs dans les tables, y compris les types de données et les valeurs minimales et maximales pour des champs numériques."
      ],
      "metadata": {}
    },
    {
      "cell_type": "code",
      "source": [
        "from opendp.smartnoise.metadata import CollectionMetadata\n",
        "\n",
        "meta = CollectionMetadata.from_file('metadata/diabetes.yml')\n",
        "print (meta)"
      ],
      "outputs": [],
      "execution_count": null,
      "metadata": {
        "vscode": {
          "languageId": "python"
        }
      }
    },
    {
      "cell_type": "markdown",
      "source": [
        "Une fois les métadonnées définies, vous pouvez créer des *lecteurs* que vous pouvez interroger. Dans l’exemple suivant, nous allons créer un **PandasReader** pour lire les données brutes à partir d’une tramedonnées Pandas, et un **PrivateReader** qui ajoute une couche de confidentialité différentielle au **PandasReader**."
      ],
      "metadata": {}
    },
    {
      "cell_type": "code",
      "source": [
        "from opendp.smartnoise.sql import PandasReader, PrivateReader\n",
        "\n",
        "reader = PandasReader(diabetes, meta)\n",
        "private_reader = PrivateReader(reader=reader, metadata=meta, epsilon_per_column=0.7)\n",
        "print('Readers ready.')"
      ],
      "outputs": [],
      "execution_count": null,
      "metadata": {
        "scrolled": false,
        "vscode": {
          "languageId": "python"
        }
      }
    },
    {
      "cell_type": "markdown",
      "source": [
        "Vous pouvez maintenant envoyer une requête SQL qui retourne un jeu de résultats agrégé au lecteur privé."
      ],
      "metadata": {}
    },
    {
      "cell_type": "code",
      "source": [
        "query = 'SELECT Diabetic, AVG(Age) AS AvgAge FROM diabetes.diabetes GROUP BY Diabetic'\n",
        "\n",
        "result_dp = private_reader.execute(query)\n",
        "print(result_dp)"
      ],
      "outputs": [],
      "execution_count": null,
      "metadata": {
        "vscode": {
          "languageId": "python"
        }
      }
    },
    {
      "cell_type": "markdown",
      "source": [
        "Comparons le résultat à la même agrégation à partir des données brutes."
      ],
      "metadata": {}
    },
    {
      "cell_type": "code",
      "source": [
        "result = reader.execute(query)\n",
        "print(result)"
      ],
      "outputs": [],
      "execution_count": null,
      "metadata": {
        "vscode": {
          "languageId": "python"
        }
      }
    },
    {
      "cell_type": "markdown",
      "source": [
        "Vous pouvez personnaliser le comportement d’un **PrivateReader** avec le paramètre **epsilon_per_column**.\n",
        "\n",
        "Essayons un lecteur avec une valeur epsilon élevée (faible confidentialité), et un autre avec une valeur epsilon basse (haute confidentialité)."
      ],
      "metadata": {}
    },
    {
      "cell_type": "code",
      "source": [
        "low_privacy_reader = PrivateReader(reader, meta, 5.0)  # large epsilon, less privacy\n",
        "result = low_privacy_reader.execute(query)\n",
        "print(result)\n",
        "print()\n",
        "\n",
        "high_privacy_reader = PrivateReader(reader, meta, 0.1)  # smaller epsilon, more privacy\n",
        "result = high_privacy_reader.execute(query)\n",
        "print(result)"
      ],
      "outputs": [],
      "execution_count": null,
      "metadata": {
        "vscode": {
          "languageId": "python"
        }
      }
    },
    {
      "cell_type": "markdown",
      "source": [
        "Notez que les résultats du lecteur avec la valeur epsilon élevée (faible confidentialité) sont plus proches des vrais résultats des données brutes que les résultats du lecteur avec la valeur epsilon basse (haute confidentialité).\n",
        "\n",
        "## En savoir plus\n",
        "\n",
        "Pour en savoir plus sur la confidentialité différentielle avec SmartNoise, consultez [https://smartnoise.org](https://smartnoise.org/)."
      ],
      "metadata": {}
    }
  ],
  "metadata": {
    "kernelspec": {
      "name": "python38-azureml",
      "language": "python",
      "display_name": "Python 3.8 - AzureML"
    },
    "language_info": {
      "name": "python",
      "version": "3.8.5",
      "mimetype": "text/x-python",
      "codemirror_mode": {
        "name": "ipython",
        "version": 3
      },
      "pygments_lexer": "ipython3",
      "nbconvert_exporter": "python",
      "file_extension": ".py"
    },
    "kernel_info": {
      "name": "python38-azureml"
    },
    "nteract": {
      "version": "nteract-front-end@1.0.0"
    }
  },
  "nbformat": 4,
  "nbformat_minor": 0
}