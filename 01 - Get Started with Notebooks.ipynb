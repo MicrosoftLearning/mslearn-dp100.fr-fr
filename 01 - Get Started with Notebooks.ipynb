﻿{
  "cells": [
    {
      "cell_type": "markdown",
      "source": [
        "# Bien démarrer avec Notebooks dans Azure Machine Learning\n",
        "\n",
        "Azure Machine Learning est un service cloud pour la création et la gestion de solutions Machine Learning. Il est conçu pour aider les scientifiques des données et les ingénieurs en apprentissage automatique à tirer parti de leurs compétences et infrastructures existants en matière de traitement des données et de développement de modèles, et à mettre à l’échelle leurs charges de travail dans le cloud.\n",
        "\n",
        "Une grande partie du travail de science des données et d’apprentissage automatique est accomplie dans des notebooks comme celui-ci. Un notebook est constitué de *cellules*, dont certaines (comme celle contenant ce texte) sont utilisées pour des notes, des graphiques et d’autres contenus généralement écrits en *markdown*, tandis que d’autres (comme la cellule sous celle-ci) contiennent du code que vous pouvez exécuter de manière interactive dans le notebook.\n",
        "\n",
        "## Kit de développement logiciel (SDK) Python Azure Machine Learning\n",
        "\n",
        "Vous pouvez exécuter pratiquement n’importe quel code Python dans un notebook, à condition que les packages Python requis soient installés dans l’environnement où vous l’exécutez. Dans ce cas, vous exécutez le notebook dans un environnement *Conda* sur une instance de calcul Azure Machine Learning. Cet environnement est installé par défaut dans l’instance de calcul, et contient les packages Python courants que les scientifiques des données utilisent généralement. Il inclut également le Kit de développement logiciel (SDK) Python Azure Machine Learning, qui est un package Python vous permettant d’écrire du code utilisant des ressources de votre espace de travail Azure Machine Learning.\n",
        "\n",
        "Exécutez la cellule ci-dessous pour importer le package **azureml-core** et vérifier la version du Kit de développement logiciel (SDK) installée."
      ],
      "metadata": {}
    },
    {
      "cell_type": "code",
      "source": [
        "import azureml.core\n",
        "\n",
        "print(\"Ready to use Azure ML\", azureml.core.VERSION)"
      ],
      "outputs": [],
      "execution_count": null,
      "metadata": {
        "gather": {
          "logged": 1649344943458
        }
      }
    },
    {
      "cell_type": "markdown",
      "source": [
        "## Vous connecter à votre espace de travail\n",
        "\n",
        "Toutes les expériences et les ressources associées sont gérées dans votre espace de travail Azure Machine Learning. Vous pouvez vous connecter à un espace de travail existant ou en créer un nouveau à l’aide du Kit de développement logiciel (SDK) Azure Machine Learning.\n",
        "\n",
        "Dans la plupart des cas, vous devriez stocker les informations de connexion de l’espace de travail dans un fichier de configuration JSON. Cela facilite la connexion sans qu’il soit nécessaire de se souvenir de détails comme l’ID de votre abonnement Azure. Vous pouvez télécharger le fichier de configuration JSON à partir du volet de votre espace de travail dans le portail Azure, ou du volet des détails de l’espace de travail dans Azure Machine Learning studio. En revanche, si vous utilisez une instance de calcul dans votre espace de travail, le fichier de configuration a déjà été téléchargé dans le dossier racine.\n",
        "\n",
        "Le code ci-dessous utilise le fichier de configuration pour se connecter à votre espace de travail.\n",
        "\n",
        "> **Remarque** : La première fois que vous vous connectez à votre espace de travail dans une session de notebook, il se peut que vous soyez  invité à vous connecter à Azure en cliquant sur le lien « https://microsoft.com/devicelogin », en entrant un code généré automatiquement et en vous connectant à Azure. Après avoir réussi à vous connecter, vous pouvez fermer l’onglet du navigateur qui était ouvert et revenir à ce notebook."
      ],
      "metadata": {}
    },
    {
      "cell_type": "code",
      "source": [
        "from azureml.core import Workspace\n",
        "\n",
        "ws = Workspace.from_config()\n",
        "print(ws.name, \"loaded\")"
      ],
      "outputs": [],
      "execution_count": null,
      "metadata": {
        "gather": {
          "logged": 1649344982702
        }
      }
    },
    {
      "cell_type": "markdown",
      "source": [
        "## Afficher les ressources Azure Machine Learning dans l’espace de travail\n",
        "\n",
        "Maintenant que vous disposez d’une connexion à votre espace de travail, vous pouvez utiliser les ressources. Par exemple, vous pouvez utiliser le code suivant pour énumérer les ressources de calcul dans votre espace de travail."
      ],
      "metadata": {}
    },
    {
      "cell_type": "code",
      "source": [
        "print(\"Compute Resources:\")\n",
        "for compute_name in ws.compute_targets:\n",
        "    compute = ws.compute_targets[compute_name]\n",
        "    print(\"\\t\", compute.name, ':', compute.type)"
      ],
      "outputs": [],
      "execution_count": null,
      "metadata": {
        "gather": {
          "logged": 1649344958183
        }
      }
    },
    {
      "cell_type": "markdown",
      "source": [
        "Lorsque vous avez fini d’explorer ce notebook, vous pouvez enregistrer les modifications que vous avez apportées, puis le fermer."
      ],
      "metadata": {}
    }
  ],
  "metadata": {
    "kernelspec": {
      "name": "python38-azureml",
      "language": "python",
      "display_name": "Python 3.8 - AzureML"
    },
    "language_info": {
      "name": "python",
      "version": "3.8.5",
      "mimetype": "text/x-python",
      "codemirror_mode": {
        "name": "ipython",
        "version": 3
      },
      "pygments_lexer": "ipython3",
      "nbconvert_exporter": "python",
      "file_extension": ".py"
    },
    "kernel_info": {
      "name": "python38-azureml"
    },
    "microsoft": {
      "host": {
        "AzureML": {
          "notebookHasBeenCompleted": true
        }
      }
    },
    "nteract": {
      "version": "nteract-front-end@1.0.0"
    }
  },
  "nbformat": 4,
  "nbformat_minor": 0
}