﻿{
  "cells": [
    {
      "cell_type": "markdown",
      "source": [
        "# Effectuer l’apprentissage de modèles\n",
        "\n",
        "L’objectif central de l’apprentissage automatique est d’effectuer l’apprentissage de modèles prédictifs que des applications peuvent utiliser. Dans Azure Machine Learning, vous pouvez utiliser des scripts pour effectuer l’apprentissage de modèles en tirant parti de structures d’apprentissage automatique courantes, telles que Scikit-Learn, Tensorflow, PyTorch, SparkML, etc. Vous pouvez exécuter ces scripts d’apprentissage en tant qu’expériences pour suivre des métriques et des résultats, qui incluent les modèles formés."
      ],
      "metadata": {}
    },
    {
      "cell_type": "markdown",
      "source": [
        "## Vous connecter à votre espace de travail\n",
        "\n",
        "Pour commencer, connectez-vous à votre espace de travail.\n",
        "\n",
        "> **Remarque** : si vous n’avez pas encore établi de session authentifiée avec votre abonnement Azure, vous serez invité à vous authentifier en cliquant sur un lien, en saisissant un code d’authentification et en vous connectant à Azure."
      ],
      "metadata": {}
    },
    {
      "cell_type": "code",
      "source": [
        "import azureml.core\n",
        "from azureml.core import Workspace\n",
        "\n",
        "# Load the workspace from the saved config file\n",
        "ws = Workspace.from_config()\n",
        "print('Ready to use Azure ML {} to work with {}'.format(azureml.core.VERSION, ws.name))"
      ],
      "outputs": [],
      "execution_count": null,
      "metadata": {
        "gather": {
          "logged": 1649366036303
        }
      }
    },
    {
      "cell_type": "markdown",
      "source": [
        "## Créer un script d’apprentissage\n",
        "\n",
        "Vous allez utiliser un script Python pour effectuer l’apprentissage d’un modèle d’apprentissage automatique basé sur les données relatives au diabète. Commençons donc par créer un dossier pour le script et les fichiers de données."
      ],
      "metadata": {}
    },
    {
      "cell_type": "code",
      "source": [
        "import os, shutil\n",
        "\n",
        "# Create a folder for the experiment files\n",
        "training_folder = 'diabetes-training'\n",
        "os.makedirs(training_folder, exist_ok=True)\n",
        "\n",
        "# Copy the data file into the experiment folder\n",
        "shutil.copy('data/diabetes.csv', os.path.join(training_folder, \"diabetes.csv\"))"
      ],
      "outputs": [],
      "execution_count": null,
      "metadata": {
        "gather": {
          "logged": 1649366039039
        }
      }
    },
    {
      "cell_type": "markdown",
      "source": [
        "Vous êtes maintenant prêt à créer le script d’apprentissage et à l’enregistrer dans le dossier.\n",
        "\n",
        "> **Remarque** : ce code *crée* le script mais ne l’exécute pas !"
      ],
      "metadata": {}
    },
    {
      "cell_type": "code",
      "source": [
        "%%writefile $training_folder/diabetes_training.py\n",
        "# Import libraries\n",
        "from azureml.core import Run\n",
        "import pandas as pd\n",
        "import numpy as np\n",
        "import joblib\n",
        "import os\n",
        "from sklearn.model_selection import train_test_split\n",
        "from sklearn.linear_model import LogisticRegression\n",
        "from sklearn.metrics import roc_auc_score\n",
        "from sklearn.metrics import roc_curve\n",
        "\n",
        "# Get the experiment run context\n",
        "run = Run.get_context()\n",
        "\n",
        "# load the diabetes dataset\n",
        "print(\"Loading Data...\")\n",
        "diabetes = pd.read_csv('diabetes.csv')\n",
        "\n",
        "# Separate features and labels\n",
        "X, y = diabetes[['Pregnancies','PlasmaGlucose','DiastolicBloodPressure','TricepsThickness','SerumInsulin','BMI','DiabetesPedigree','Age']].values, diabetes['Diabetic'].values\n",
        "\n",
        "# Split data into training set and test set\n",
        "X_train, X_test, y_train, y_test = train_test_split(X, y, test_size=0.30, random_state=0)\n",
        "\n",
        "# Set regularization hyperparameter\n",
        "reg = 0.01\n",
        "\n",
        "# Train a logistic regression model\n",
        "print('Training a logistic regression model with regularization rate of', reg)\n",
        "run.log('Regularization Rate',  np.float(reg))\n",
        "model = LogisticRegression(C=1/reg, solver=\"liblinear\").fit(X_train, y_train)\n",
        "\n",
        "# calculate accuracy\n",
        "y_hat = model.predict(X_test)\n",
        "acc = np.average(y_hat == y_test)\n",
        "print('Accuracy:', acc)\n",
        "run.log('Accuracy', np.float(acc))\n",
        "\n",
        "# calculate AUC\n",
        "y_scores = model.predict_proba(X_test)\n",
        "auc = roc_auc_score(y_test,y_scores[:,1])\n",
        "print('AUC: ' + str(auc))\n",
        "run.log('AUC', np.float(auc))\n",
        "\n",
        "# Save the trained model in the outputs folder\n",
        "os.makedirs('outputs', exist_ok=True)\n",
        "joblib.dump(value=model, filename='outputs/diabetes_model.pkl')\n",
        "\n",
        "run.complete()"
      ],
      "outputs": [],
      "execution_count": null,
      "metadata": {}
    },
    {
      "cell_type": "markdown",
      "source": [
        "## Exécuter le script d’apprentissage en tant qu’expérience\n",
        "\n",
        "Vous êtes maintenant prêt à exécuter le script en tant qu’expérience. Notez que l’environnement par défaut n’incluant pas le package **scikit-Learn**, vous n’avez pas besoin de l’ajouter explicitement à la configuration. L’environnement conda est créé à la demande lors de la première exécution de l’expérience, et mis en cache en vue de futures exécutions utilisant la même configuration. La première exécution prend donc un peu plus de temps."
      ],
      "metadata": {}
    },
    {
      "cell_type": "code",
      "source": [
        "from azureml.core import Experiment, ScriptRunConfig, Environment\n",
        "from azureml.core.runconfig import DockerConfiguration\n",
        "from azureml.widgets import RunDetails\n",
        "\n",
        "# Create a Python environment for the experiment (from a .yml file)\n",
        "env = Environment.from_conda_specification(\"experiment_env\", \"environment.yml\")\n",
        "\n",
        "# Create a script config\n",
        "script_config = ScriptRunConfig(source_directory=training_folder,\n",
        "                                script='diabetes_training.py',\n",
        "                                environment=env,\n",
        "                                docker_runtime_config=DockerConfiguration(use_docker=True)) \n",
        "\n",
        "# submit the experiment run\n",
        "experiment_name = 'mslearn-train-diabetes'\n",
        "experiment = Experiment(workspace=ws, name=experiment_name)\n",
        "run = experiment.submit(config=script_config)\n",
        "\n",
        "# Show the running experiment run in the notebook widget\n",
        "RunDetails(run).show()\n",
        "\n",
        "# Block until the experiment run has completed\n",
        "run.wait_for_completion()"
      ],
      "outputs": [],
      "execution_count": null,
      "metadata": {
        "gather": {
          "logged": 1649366052967
        }
      }
    },
    {
      "cell_type": "markdown",
      "source": [
        "Vous pouvez extraire les métriques et sorties de l’objet **Run**."
      ],
      "metadata": {}
    },
    {
      "cell_type": "code",
      "source": [
        "# Get logged metrics and files\n",
        "metrics = run.get_metrics()\n",
        "for key in metrics.keys():\n",
        "        print(key, metrics.get(key))\n",
        "print('\\n')\n",
        "for file in run.get_file_names():\n",
        "    print(file)"
      ],
      "outputs": [],
      "execution_count": null,
      "metadata": {
        "gather": {
          "logged": 1649366055677
        }
      }
    },
    {
      "cell_type": "markdown",
      "source": [
        "## Inscrire le modèle formé\n",
        "\n",
        "Notez que les résultats de l’expérience incluent le fichier du modèle formé (**diabetes_model.pkl**). Vous pouvez enregistrer ce modèle dans votre espace de travail Azure Machine Learning afin de suivre les versions du modèle et de les récupérer ultérieurement."
      ],
      "metadata": {}
    },
    {
      "cell_type": "code",
      "source": [
        "from azureml.core import Model\n",
        "\n",
        "# Register the model\n",
        "run.register_model(model_path='outputs/diabetes_model.pkl', model_name='diabetes_model',\n",
        "                   tags={'Training context':'Script'},\n",
        "                   properties={'AUC': run.get_metrics()['AUC'], 'Accuracy': run.get_metrics()['Accuracy']})\n",
        "\n",
        "# List registered models\n",
        "for model in Model.list(ws):\n",
        "    print(model.name, 'version:', model.version)\n",
        "    for tag_name in model.tags:\n",
        "        tag = model.tags[tag_name]\n",
        "        print ('\\t',tag_name, ':', tag)\n",
        "    for prop_name in model.properties:\n",
        "        prop = model.properties[prop_name]\n",
        "        print ('\\t',prop_name, ':', prop)\n",
        "    print('\\n')"
      ],
      "outputs": [],
      "execution_count": null,
      "metadata": {
        "gather": {
          "logged": 1649366061163
        }
      }
    },
    {
      "cell_type": "markdown",
      "source": [
        "> **Remarque** : le code ci-dessus utilise des *propriétés* et *étiquettes* pour noter des informations supplémentaires sur le modèle. La principale différence entre les propriétés et les étiquettes est que les propriétés ne peuvent pas être modifiées une fois le modèle inscrit, tandis que les étiquettes d’un modèle inscrit peuvent être modifiées.\n",
        "\n",
        "## Créer un script d’apprentissage paramétré\n",
        "\n",
        "Vous pouvez augmenter la flexibilité de votre expérience d’apprentissage en ajoutant des paramètres à votre script afin de pouvoir répéter la même expérience d’apprentissage avec des paramètres différents. Dans ce cas, vous allez ajouter un paramètre pour le taux de régularisation utilisé par l’algorithme de régression logistique lors de l’apprentissage du modèle.\n",
        "\n",
        "Une fois encore, commençons par créer un dossier pour le script paramétré et les données d’apprentissage."
      ],
      "metadata": {}
    },
    {
      "cell_type": "code",
      "source": [
        "import os, shutil\n",
        "\n",
        "# Create a folder for the experiment files\n",
        "training_folder = 'diabetes-training-params'\n",
        "os.makedirs(training_folder, exist_ok=True)\n",
        "\n",
        "# Copy the data file into the experiment folder\n",
        "shutil.copy('data/diabetes.csv', os.path.join(training_folder, \"diabetes.csv\"))"
      ],
      "outputs": [],
      "execution_count": null,
      "metadata": {
        "gather": {
          "logged": 1649366064098
        }
      }
    },
    {
      "cell_type": "markdown",
      "source": [
        "Créons maintenant un script avec un argument pour l’hyperparamètre de taux de régularisation. L’argument est lu en utilisant un objet Python **argparse.ArgumentParser**."
      ],
      "metadata": {}
    },
    {
      "cell_type": "code",
      "source": [
        "%%writefile $training_folder/diabetes_training.py\n",
        "# Import libraries\n",
        "from azureml.core import Run\n",
        "import pandas as pd\n",
        "import numpy as np\n",
        "import joblib\n",
        "import os\n",
        "import argparse\n",
        "from sklearn.model_selection import train_test_split\n",
        "from sklearn.linear_model import LogisticRegression\n",
        "from sklearn.metrics import roc_auc_score\n",
        "from sklearn.metrics import roc_curve\n",
        "\n",
        "# Get the experiment run context\n",
        "run = Run.get_context()\n",
        "\n",
        "# Set regularization hyperparameter\n",
        "parser = argparse.ArgumentParser()\n",
        "parser.add_argument('--reg_rate', type=float, dest='reg', default=0.01)\n",
        "args = parser.parse_args()\n",
        "reg = args.reg\n",
        "\n",
        "# load the diabetes dataset\n",
        "print(\"Loading Data...\")\n",
        "# load the diabetes dataset\n",
        "diabetes = pd.read_csv('diabetes.csv')\n",
        "\n",
        "# Separate features and labels\n",
        "X, y = diabetes[['Pregnancies','PlasmaGlucose','DiastolicBloodPressure','TricepsThickness','SerumInsulin','BMI','DiabetesPedigree','Age']].values, diabetes['Diabetic'].values\n",
        "\n",
        "# Split data into training set and test set\n",
        "X_train, X_test, y_train, y_test = train_test_split(X, y, test_size=0.30, random_state=0)\n",
        "\n",
        "# Train a logistic regression model\n",
        "print('Training a logistic regression model with regularization rate of', reg)\n",
        "run.log('Regularization Rate',  np.float(reg))\n",
        "model = LogisticRegression(C=1/reg, solver=\"liblinear\").fit(X_train, y_train)\n",
        "\n",
        "# calculate accuracy\n",
        "y_hat = model.predict(X_test)\n",
        "acc = np.average(y_hat == y_test)\n",
        "print('Accuracy:', acc)\n",
        "run.log('Accuracy', np.float(acc))\n",
        "\n",
        "# calculate AUC\n",
        "y_scores = model.predict_proba(X_test)\n",
        "auc = roc_auc_score(y_test,y_scores[:,1])\n",
        "print('AUC: ' + str(auc))\n",
        "run.log('AUC', np.float(auc))\n",
        "\n",
        "os.makedirs('outputs', exist_ok=True)\n",
        "joblib.dump(value=model, filename='outputs/diabetes_model.pkl')\n",
        "\n",
        "run.complete()"
      ],
      "outputs": [],
      "execution_count": null,
      "metadata": {}
    },
    {
      "cell_type": "markdown",
      "source": [
        "## Exécuter le script avec des arguments\n",
        "\n",
        "Vous exécutez le script en tant qu’expérience, comme vous l’avez fait précédemment, en réutilisant l’environnement que vous avez créé. Mais cette fois, vous devez fournir le paramètre **--reg_rate** que le script attend comme argument."
      ],
      "metadata": {}
    },
    {
      "cell_type": "code",
      "source": [
        "# Create a script config\n",
        "script_config = ScriptRunConfig(source_directory=training_folder,\n",
        "                                script='diabetes_training.py',\n",
        "                                arguments = ['--reg_rate', 0.1],\n",
        "                                environment=env,\n",
        "                                docker_runtime_config=DockerConfiguration(use_docker=True)) \n",
        "\n",
        "# submit the experiment\n",
        "experiment_name = 'mslearn-train-diabetes'\n",
        "experiment = Experiment(workspace=ws, name=experiment_name)\n",
        "run = experiment.submit(config=script_config)\n",
        "RunDetails(run).show()\n",
        "run.wait_for_completion()"
      ],
      "outputs": [],
      "execution_count": null,
      "metadata": {
        "gather": {
          "logged": 1649366078595
        }
      }
    },
    {
      "cell_type": "markdown",
      "source": [
        "Une fois encore, nous pouvons obtenir les métriques et les résultats de l’exécution terminée."
      ],
      "metadata": {}
    },
    {
      "cell_type": "code",
      "source": [
        "# Get logged metrics\n",
        "metrics = run.get_metrics()\n",
        "for key in metrics.keys():\n",
        "        print(key, metrics.get(key))\n",
        "print('\\n')\n",
        "for file in run.get_file_names():\n",
        "    print(file)"
      ],
      "outputs": [],
      "execution_count": null,
      "metadata": {
        "gather": {
          "logged": 1649366082569
        }
      }
    },
    {
      "cell_type": "markdown",
      "source": [
        "## Inscrire une nouvelle version du modèle\n",
        "\n",
        "Maintenant que vous avez effectué l’apprentissage d’un nouveau modèle, vous pouvez l’inscrire en tant que nouvelle version dans l’espace de travail."
      ],
      "metadata": {}
    },
    {
      "cell_type": "code",
      "source": [
        "from azureml.core import Model\n",
        "\n",
        "# Register the model\n",
        "run.register_model(model_path='outputs/diabetes_model.pkl', model_name='diabetes_model',\n",
        "                   tags={'Training context':'Parameterized script'},\n",
        "                   properties={'AUC': run.get_metrics()['AUC'], 'Accuracy': run.get_metrics()['Accuracy']})\n",
        "\n",
        "# List registered models\n",
        "for model in Model.list(ws):\n",
        "    print(model.name, 'version:', model.version)\n",
        "    for tag_name in model.tags:\n",
        "        tag = model.tags[tag_name]\n",
        "        print ('\\t',tag_name, ':', tag)\n",
        "    for prop_name in model.properties:\n",
        "        prop = model.properties[prop_name]\n",
        "        print ('\\t',prop_name, ':', prop)\n",
        "    print('\\n')"
      ],
      "outputs": [],
      "execution_count": null,
      "metadata": {
        "gather": {
          "logged": 1649366090545
        }
      }
    },
    {
      "cell_type": "markdown",
      "source": [
        "Vous pouvez également voir les modèles inscrits dans votre espace de travail sur la page **Modèles** dans [Azure Machine Learning studio](https://ml.azure.com).\n",
        "\n",
        "Si vous avez fini d’explorer, vous pouvez fermer ce notebook et arrêter votre instance de calcul."
      ],
      "metadata": {}
    }
  ],
  "metadata": {
    "kernelspec": {
      "name": "python38-azureml",
      "language": "python",
      "display_name": "Python 3.8 - AzureML"
    },
    "language_info": {
      "name": "python",
      "version": "3.8.5",
      "mimetype": "text/x-python",
      "codemirror_mode": {
        "name": "ipython",
        "version": 3
      },
      "pygments_lexer": "ipython3",
      "nbconvert_exporter": "python",
      "file_extension": ".py"
    },
    "kernel_info": {
      "name": "python38-azureml"
    },
    "nteract": {
      "version": "nteract-front-end@1.0.0"
    }
  },
  "nbformat": 4,
  "nbformat_minor": 0
}