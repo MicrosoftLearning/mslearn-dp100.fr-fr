﻿{
  "cells": [
    {
      "cell_type": "markdown",
      "source": [
        "# Utiliser le Machine Learning automatisé\n",
        "\n",
        "Il existe de nombreux types d’algorithmes d’apprentissage automatique que vous pouvez utiliser pour effectuer l’apprentissage d’un modèle, et il n’est pas toujours facile de déterminer l’algorithme le plus efficace pour vos données et vos exigences de prédiction spécifiques. En outre, vous pouvez affecter de manière significative les performances prédictives d’un modèle en prétraitant les données d’apprentissage à l’aide de techniques telles que la normalisation, l’imputation de fonctionnalités manquantes et autres. Dans votre quête du *meilleur* modèle pour vos besoins, vous devrez peut-être essayer de nombreuses combinaisons d’algorithmes et de transformations de prétraitement, ce qui monopolise beaucoup de temps et de ressources de calcul.\n",
        "\n",
        "Azure Machine Learning vous permet d’automatiser la comparaison de modèles formés à l’aide de différents algorithmes et options de prétraitement. Vous pouvez utiliser l’interface visuelle dans [Azure Machine Learning Studio](https://ml/Azure.com) ou le Kit de développement logiciel (SDK) pour tirer parti de cette fonctionnalité. Le Kit de développement logiciel (SDK) vous permet de mieux contrôler les paramètres de l’expérience d’apprentissage automatique automatisé, mais l’interface visuelle est plus facile à utiliser.\n",
        "\n",
        "## Avant de commencer\n",
        "\n",
        "En plus de la dernière version des packages **azureml-SDK** et **azureml-widgets**, vous aurez besoin du package **azureml-train-automl** pour exécuter le code contenu dans ce notebook. Exécutez la cellule ci-dessous pour vérifier qu’il est installé."
      ],
      "metadata": {}
    },
    {
      "cell_type": "code",
      "source": [
        "pip show azureml-train-automl"
      ],
      "outputs": [],
      "execution_count": null,
      "metadata": {
        "vscode": {
          "languageId": "python"
        },
        "gather": {
          "logged": 1649367946616
        }
      }
    },
    {
      "cell_type": "markdown",
      "source": [
        "## Vous connecter à votre espace de travail\n",
        "\n",
        "Une fois les packages requis du Kit de développement logiciel (SDK) installés, vous êtes prêt à vous connecter à votre espace de travail.\n",
        "\n",
        "> **Remarque** : si vous n’avez pas encore établi de session authentifiée avec votre abonnement Azure, vous serez invité à vous authentifier en cliquant sur un lien, en saisissant un code d’authentification et en vous connectant à Azure."
      ],
      "metadata": {}
    },
    {
      "cell_type": "code",
      "source": [
        "import azureml.core\n",
        "from azureml.core import Workspace\n",
        "\n",
        "# Load the workspace from the saved config file\n",
        "ws = Workspace.from_config()\n",
        "print('Ready to use Azure ML {} to work with {}'.format(azureml.core.VERSION, ws.name))"
      ],
      "outputs": [],
      "execution_count": null,
      "metadata": {
        "vscode": {
          "languageId": "python"
        },
        "gather": {
          "logged": 1649368014007
        }
      }
    },
    {
      "cell_type": "markdown",
      "source": [
        "## Préparer les données\n",
        "\n",
        "Vous n’avez pas besoin de créer un script d’apprentissage pour l’apprentissage automatique automatisé, mais vous devez charger les données d’apprentissage. Dans ce cas, vous allez utiliser un jeu de données contenant les détails de patients atteints de diabète, puis le diviser en deux jeux de données, l’un pour l’apprentissage, et l’autre pour la validation du modèle."
      ],
      "metadata": {}
    },
    {
      "cell_type": "code",
      "source": [
        "from azureml.core import Dataset\n",
        "\n",
        "default_ds = ws.get_default_datastore()\n",
        "\n",
        "if 'diabetes dataset' not in ws.datasets:\n",
        "    default_ds.upload_files(files=['./data/diabetes.csv', './data/diabetes2.csv'], # Upload the diabetes csv files in /data\n",
        "                        target_path='diabetes-data/', # Put it in a folder path in the datastore\n",
        "                        overwrite=True, # Replace existing files of the same name\n",
        "                        show_progress=True)\n",
        "\n",
        "    #Create a tabular dataset from the path on the datastore (this may take a short while)\n",
        "    tab_data_set = Dataset.Tabular.from_delimited_files(path=(default_ds, 'diabetes-data/*.csv'))\n",
        "\n",
        "    # Register the tabular dataset\n",
        "    try:\n",
        "        tab_data_set = tab_data_set.register(workspace=ws, \n",
        "                                name='diabetes dataset',\n",
        "                                description='diabetes data',\n",
        "                                tags = {'format':'CSV'},\n",
        "                                create_new_version=True)\n",
        "        print('Dataset registered.')\n",
        "    except Exception as ex:\n",
        "        print(ex)\n",
        "else:\n",
        "    print('Dataset already registered.')\n",
        "\n",
        "\n",
        "# Split the dataset into training and validation subsets\n",
        "diabetes_ds = ws.datasets.get(\"diabetes dataset\")\n",
        "train_ds, test_ds = diabetes_ds.random_split(percentage=0.7, seed=123)\n",
        "print(\"Data ready!\")"
      ],
      "outputs": [],
      "execution_count": null,
      "metadata": {
        "vscode": {
          "languageId": "python"
        }
      }
    },
    {
      "cell_type": "markdown",
      "source": [
        "## Préparer le calcul\n",
        "\n",
        "L’un des avantages du calcul cloud est qu’il se met à l’échelle à la demande, ce qui vous permet d’approvisionner suffisamment de ressources de calcul pour traiter plusieurs exécutions enfants d’une expérience d’apprentissage automatique automatisé en parallèle.\n",
        "\n",
        "Utilisez le code suivant pour spécifier un cluster de calcul Azure Machine Learning (il sera créé s’il n’existe pas).\n",
        "\n",
        "> **Important** : remplacez *your-compute-cluster* par le nom de votre cluster de calcul dans le code ci-dessous avant de l’exécuter. Les noms de cluster doivent être globalement uniques et d’une longueur comprise entre 2 et 16 caractères. Les caractères valides sont les lettres, les chiffres et le tiret (-)."
      ],
      "metadata": {}
    },
    {
      "cell_type": "code",
      "source": [
        "from azureml.core.compute import ComputeTarget, AmlCompute\n",
        "from azureml.core.compute_target import ComputeTargetException\n",
        "\n",
        "cluster_name = \"your-compute-cluster\"\n",
        "\n",
        "try:\n",
        "    # Check for existing compute target\n",
        "    training_cluster = ComputeTarget(workspace=ws, name=cluster_name)\n",
        "    print('Found existing cluster, use it.')\n",
        "except ComputeTargetException:\n",
        "    # If it doesn't already exist, create it\n",
        "    try:\n",
        "        compute_config = AmlCompute.provisioning_configuration(vm_size='STANDARD_DS11_V2', max_nodes=2)\n",
        "        training_cluster = ComputeTarget.create(ws, cluster_name, compute_config)\n",
        "        training_cluster.wait_for_completion(show_output=True)\n",
        "    except Exception as ex:\n",
        "        print(ex)\n",
        "    "
      ],
      "outputs": [],
      "execution_count": null,
      "metadata": {
        "vscode": {
          "languageId": "python"
        }
      }
    },
    {
      "cell_type": "markdown",
      "source": [
        "> **Remarque** : les clusters et instances de calcul sont basés sur des images de machines virtuelles Azure standard. Pour cet exercice, l’image *Standard_DS11_v2* est recommandée pour obtenir l’équilibre optimal entre coûts et performances. Si votre abonnement comprend un n’incluant cette image, choisissez-en une autre. Gardez cependant à l’esprit qu’une image plus grande peut entraîner des coûts plus élevés, tandis qu’une plus petite risque de ne pas suffire pour accomplir les tâches. Vous pouvez également demander à votre administrateur Azure d’étendre votre quota.\n",
        "\n",
        "## Configurer l’apprentissage automatique automatisé\n",
        "\n",
        "Vous êtes maintenant prêt à configurer l’expérience d’apprentissage automatique automatisée.\n",
        "\n",
        "L’un des paramètres de configuration les plus importants est la métrique par laquelle les performances du modèle devraient être évaluées. Vous pouvez récupérer la liste des métriques calculées par l’apprentissage automatique automatisé pour un type particulier de tâche de modèle (classification ou régression) comme ceci :"
      ],
      "metadata": {}
    },
    {
      "cell_type": "code",
      "source": [
        "import azureml.train.automl.utilities as automl_utils\n",
        "\n",
        "for metric in automl_utils.get_primary_metrics('classification'):\n",
        "    print(metric)"
      ],
      "outputs": [],
      "execution_count": null,
      "metadata": {
        "vscode": {
          "languageId": "python"
        }
      }
    },
    {
      "cell_type": "markdown",
      "source": [
        "Après avoir choisi la métrique que vous souhaitez optimiser (dans cet exemple, *AUC_weighted*), vous pouvez configurer l’exécution de l’apprentissage automatique automatisé. Pour ce faire, vous avez besoin d’une configuration d’AutoML qui spécifie la métrique cible, ainsi que des options telles que les données à utiliser, le nombre de combinaisons à essayer, etc.\n",
        "\n",
        "> **Remarque** : dans cet exemple, vous allez limiter l’expérience à 4 itérations pour réduire le temps nécessaire. En réalité, il est probable que vous essayiez beaucoup plus d’itérations."
      ],
      "metadata": {}
    },
    {
      "cell_type": "code",
      "source": [
        "from azureml.train.automl import AutoMLConfig\n",
        "\n",
        "automl_config = AutoMLConfig(name='Automated ML Experiment',\n",
        "                             task='classification',\n",
        "                             compute_target=training_cluster,\n",
        "                             training_data = train_ds,\n",
        "                             validation_data = test_ds,\n",
        "                             label_column_name='Diabetic',\n",
        "                             iterations=4,\n",
        "                             primary_metric = 'AUC_weighted',\n",
        "                             max_concurrent_iterations=2,\n",
        "                             featurization='auto'\n",
        "                             )\n",
        "\n",
        "print(\"Ready for Auto ML run.\")"
      ],
      "outputs": [],
      "execution_count": null,
      "metadata": {
        "vscode": {
          "languageId": "python"
        }
      }
    },
    {
      "cell_type": "markdown",
      "source": [
        "## Exécuter une expérience d’apprentissage automatique automatisé\n",
        "\n",
        "OK, vous êtes prêt. Nous allons exécuter l’expérience d’apprentissage automatique automatisé.\n",
        "\n",
        "> **Remarque** : cette opération peut prendre un certain temps."
      ],
      "metadata": {}
    },
    {
      "cell_type": "code",
      "source": [
        "from azureml.core.experiment import Experiment\n",
        "from azureml.widgets import RunDetails\n",
        "\n",
        "print('Submitting Auto ML experiment...')\n",
        "automl_experiment = Experiment(ws, 'mslearn-diabetes-automl-sdk')\n",
        "automl_run = automl_experiment.submit(automl_config)\n",
        "RunDetails(automl_run).show()\n",
        "automl_run.wait_for_completion(show_output=True)"
      ],
      "outputs": [],
      "execution_count": null,
      "metadata": {
        "scrolled": true,
        "vscode": {
          "languageId": "python"
        }
      }
    },
    {
      "cell_type": "markdown",
      "source": [
        "## Afficher les détails de l’exécution enfant\n",
        "\n",
        "Une fois l’expérience terminée, affichez la sortie dans le widget, puis cliquez sur l’exécution qui a produit le meilleur résultat pour en afficher les détails.\n",
        "\n",
        "Ensuite, cliquez sur le lien pour afficher les détails de l’expérience dans Azure Machine Learning studio, puis consultez les détails de l’expérience globale avant d’afficher les détails de l’exécution individuelle qui a produit le meilleur résultat. Il y a beaucoup d’informations ici sur les performances du modèle généré.\n",
        "\n",
        "Vous pouvez également récupérer toutes les exécutions enfants et afficher leurs métriques à l’aide du Kit de développement logiciel (SDK) :"
      ],
      "metadata": {}
    },
    {
      "cell_type": "code",
      "source": [
        "for run in automl_run.get_children():\n",
        "    print('Run ID', run.id)\n",
        "    for metric in run.get_metrics():\n",
        "        print('\\t', run.get_metrics(metric))"
      ],
      "outputs": [],
      "execution_count": null,
      "metadata": {
        "vscode": {
          "languageId": "python"
        }
      }
    },
    {
      "cell_type": "markdown",
      "source": [
        "## Obtenir la meilleure exécution\n",
        "\n",
        "Vous pouvez récupérer l’exécution la plus performante et afficher ses détails comme suit :"
      ],
      "metadata": {}
    },
    {
      "cell_type": "code",
      "source": [
        "best_run, fitted_model = automl_run.get_output()\n",
        "print(best_run)\n",
        "print('\\nBest Model Definition:')\n",
        "print(fitted_model)\n",
        "print('\\nBest Run Transformations:')\n",
        "for step in fitted_model.named_steps:\n",
        "    print(step)\n",
        "print('\\nBest Run Metrics:')\n",
        "best_run_metrics = best_run.get_metrics()\n",
        "for metric_name in best_run_metrics:\n",
        "    metric = best_run_metrics[metric_name]\n",
        "    print(metric_name, metric)"
      ],
      "outputs": [],
      "execution_count": null,
      "metadata": {
        "vscode": {
          "languageId": "python"
        }
      }
    },
    {
      "cell_type": "markdown",
      "source": [
        "Enfin, si vous avez trouvé le modèle le plus performant, vous pouvez l’inscrire."
      ],
      "metadata": {}
    },
    {
      "cell_type": "code",
      "source": [
        "from azureml.core import Model\n",
        "\n",
        "# Register model\n",
        "best_run.register_model(model_path='outputs/model.pkl', model_name='diabetes_model',\n",
        "                        tags={'Training context':'Auto ML'},\n",
        "                        properties={'AUC': best_run_metrics['AUC_weighted'], 'Accuracy': best_run_metrics['accuracy']})\n",
        "\n",
        "# List registered models\n",
        "for model in Model.list(ws):\n",
        "    print(model.name, 'version:', model.version)\n",
        "    for tag_name in model.tags:\n",
        "        tag = model.tags[tag_name]\n",
        "        print ('\\t',tag_name, ':', tag)\n",
        "    for prop_name in model.properties:\n",
        "        prop = model.properties[prop_name]\n",
        "        print ('\\t',prop_name, ':', prop)\n",
        "    print('\\n')"
      ],
      "outputs": [],
      "execution_count": null,
      "metadata": {
        "vscode": {
          "languageId": "python"
        }
      }
    },
    {
      "cell_type": "markdown",
      "source": [
        "> **Plus d’informations** : pour plus d’informations sur le Machine Learning automatisé, consultez la [Documentation Azure ML](https://docs.microsoft.com/azure/machine-learning/how-to-configure-auto-train)."
      ],
      "metadata": {}
    }
  ],
  "metadata": {
    "kernelspec": {
      "name": "python38-azureml",
      "language": "python",
      "display_name": "Python 3.8 - AzureML"
    },
    "language_info": {
      "name": "python",
      "version": "3.8.5",
      "mimetype": "text/x-python",
      "codemirror_mode": {
        "name": "ipython",
        "version": 3
      },
      "pygments_lexer": "ipython3",
      "nbconvert_exporter": "python",
      "file_extension": ".py"
    },
    "kernel_info": {
      "name": "python38-azureml"
    },
    "nteract": {
      "version": "nteract-front-end@1.0.0"
    }
  },
  "nbformat": 4,
  "nbformat_minor": 0
}